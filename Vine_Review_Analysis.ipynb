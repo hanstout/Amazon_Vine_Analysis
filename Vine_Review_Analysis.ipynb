{
  "nbformat": 4,
  "nbformat_minor": 0,
  "metadata": {
    "colab": {
      "provenance": [],
      "collapsed_sections": []
    },
    "kernelspec": {
      "name": "python3",
      "display_name": "Python 3"
    },
    "language_info": {
      "name": "python"
    }
  },
  "cells": [
    {
      "cell_type": "code",
      "source": [
        "import os\n",
        "# Find the latest version of spark 3.0  from http://www-us.apache.org/dist/spark/ and enter as the spark version\n",
        "# For example:\n",
        "# spark_version = 'spark-3.0.2'\n",
        "spark_version = 'spark-3.0.2'\n",
        "os.environ['SPARK_VERSION']=spark_version\n",
        "\n",
        "# Install Spark and Java\n",
        "!apt-get update\n",
        "!apt-get install openjdk-11-jdk-headless -qq > /dev/null\n",
        "!wget -q http://www-us.apache.org/dist/spark/$SPARK_VERSION/$SPARK_VERSION-bin-hadoop2.7.tgz\n",
        "#https://downloads.apache.org/spark/spark-3.0.2/spark-3.0.2-bin-hadoop2.7.tgz \n",
        "\n",
        "!tar xf $SPARK_VERSION-bin-hadoop2.7.tgz\n",
        "!pip install -q findspark\n",
        "\n",
        "# Set Environment Variables\n",
        "import os\n",
        "os.environ[\"JAVA_HOME\"] = \"/usr/lib/jvm/java-11-openjdk-amd64\"\n",
        "os.environ[\"SPARK_HOME\"] = f\"/content/{spark_version}-bin-hadoop2.7\"\n",
        "\n",
        "# Start a SparkSession\n",
        "import findspark\n",
        "findspark.init()"
      ],
      "metadata": {
        "id": "Acw-lMNav6qo"
      },
      "execution_count": null,
      "outputs": []
    },
    {
      "cell_type": "code",
      "source": [
        "# Start Spark session\n",
        "from pyspark.sql import SparkSession\n",
        "spark = SparkSession.builder.appName(\"DataFrameBasics\").getOrCreate()"
      ],
      "metadata": {
        "id": "iURenHP7v-Qt"
      },
      "execution_count": null,
      "outputs": []
    },
    {
      "cell_type": "code",
      "source": [
        "# Import struct fields that we can use\n",
        "from pyspark.sql.types import StructField, StringType, IntegerType, StructType, DateType"
      ],
      "metadata": {
        "id": "G5Y7Kl8UwB9A"
      },
      "execution_count": null,
      "outputs": []
    },
    {
      "cell_type": "code",
      "source": [
        "# Next we need to create the list of struct fields\n",
        "schema = [\n",
        "StructField(\"marketplace\", StringType(), True),\n",
        "StructField(\"customer_id\", StringType(), True),\n",
        "StructField(\"review_id\", StringType(), True),\n",
        "StructField(\"product_id\", StringType(), True),\n",
        "StructField(\"product_parent\", StringType(), True),\n",
        "StructField(\"product_title\", StringType(), True),\n",
        "StructField(\"product_category\", StringType(), True),\n",
        "StructField(\"star_rating\", IntegerType(), True),\n",
        "StructField(\"helpful_votes\", IntegerType(), True),\n",
        "StructField(\"total_votes\", IntegerType(), True),\n",
        "StructField(\"vine\", StringType(), True),\n",
        "StructField(\"verified_purchase\", StringType(), True),\n",
        "StructField(\"review_headline\", StringType(), True),\n",
        "StructField(\"review_body\", StringType(), True),\n",
        "StructField(\"review_date\", DateType(), True),\n",
        "]\n",
        "schema"
      ],
      "metadata": {
        "id": "oFT9OKGIwFgf"
      },
      "execution_count": null,
      "outputs": []
    },
    {
      "cell_type": "code",
      "source": [
        "from pyspark import SparkFiles\n",
        "url = \"https://paulviet-bucket.s3.us-east-2.amazonaws.com/amazon_reviews_us_Video_Games_v1_00.tsv\"\n",
        "spark.sparkContext.addFile(url)\n",
        "df = spark.read.option(\"encoding\", \"UTF-8\").csv(SparkFiles.get(\"amazon_reviews_us_Video_Games_v1_00.tsv\"), schema=final, sep=\"\\t\", header=True, inferSchema=True)\n",
        "df.count()"
      ],
      "metadata": {
        "id": "QS3ewpTzwI5k"
      },
      "execution_count": null,
      "outputs": []
    },
    {
      "cell_type": "code",
      "source": [
        "df.na.drop(subset=[\"star_rating\", \"helpful_votes\", \"total_votes\", \"vine\", ]).show() #(truncate=False)\n"
      ],
      "metadata": {
        "id": "7bor2sS-wJFn"
      },
      "execution_count": null,
      "outputs": []
    },
    {
      "cell_type": "code",
      "source": [
        "# Load in a sql function to use columns\n",
        "from pyspark.sql.functions import col"
      ],
      "metadata": {
        "id": "BxI_AeT-wJPE"
      },
      "execution_count": null,
      "outputs": []
    },
    {
      "cell_type": "code",
      "source": [
        "# 1 retrieve all the rows where the total_votes count is equal to or greater than 20\n",
        "votedformore_df = df.filter(col(\"total_votes\") >= 20)\n",
        "votedformore_df.show()"
      ],
      "metadata": {
        "id": "hCMg_JJ8wSyj"
      },
      "execution_count": null,
      "outputs": []
    },
    {
      "cell_type": "code",
      "source": [
        "votedformore_df.count()"
      ],
      "metadata": {
        "id": "sdCFtiOLwUZ7"
      },
      "execution_count": null,
      "outputs": []
    },
    {
      "cell_type": "code",
      "source": [
        "# 2 retrieve all the rows where the number of helpful_votes divided by total_votes is equal to or greater than 50%.\n",
        "over50_df = votedformore_df.filter(col(\"helpful_votes\") / col(\"total_votes\") >= 0.5)\n",
        "over50_df.show()"
      ],
      "metadata": {
        "id": "dizW9-KHwXS-"
      },
      "execution_count": null,
      "outputs": []
    },
    {
      "cell_type": "code",
      "source": [
        "# 3 Create a new DataFrame or table that retrieves all the rows where a review was written as part of the Vine program (paid), vine == 'Y'.\n",
        "vine_df = over50_df.filter(col(\"vine\") == \"Y\")\n",
        "vine_df.show()"
      ],
      "metadata": {
        "id": "-OAk7EdtwYzm"
      },
      "execution_count": null,
      "outputs": []
    },
    {
      "cell_type": "code",
      "source": [
        "print(\"How many Vine reviews? \" + str(vine_df.count()))"
      ],
      "metadata": {
        "id": "9TxCphnKwan-"
      },
      "execution_count": null,
      "outputs": []
    },
    {
      "cell_type": "code",
      "source": [
        "# 4 Create a new DataFrame or table that retrieves all the rows where a review was not part of the Vine program (paid), vine == 'N'.\n",
        "notvine_df = over50_df.filter(col(\"vine\") == \"N\")\n",
        "notvine_df.show()"
      ],
      "metadata": {
        "id": "C8FYBrX3wfb6"
      },
      "execution_count": null,
      "outputs": []
    },
    {
      "cell_type": "code",
      "source": [
        "print(\"How many Non-Vine reviews? \" + str(notvine_df.count()))"
      ],
      "metadata": {
        "id": "R-_x4NVvwhZ_"
      },
      "execution_count": null,
      "outputs": []
    },
    {
      "cell_type": "code",
      "source": [
        "# 5a Total number of Reviews\n",
        "print(\"Total number of Reviews: \" + str(over50_df.count()))"
      ],
      "metadata": {
        "id": "UuC_xs51wlNS"
      },
      "execution_count": null,
      "outputs": []
    },
    {
      "cell_type": "code",
      "source": [
        "# 5b the number of 5-star reviews \n",
        "print(\"Total number of 5 star Reviews: \" + str(over50_df.filter(col(\"star_rating\")== 5).count()))"
      ],
      "metadata": {
        "id": "7HRSTlsrwn-y"
      },
      "execution_count": null,
      "outputs": []
    },
    {
      "cell_type": "code",
      "source": [
        "# 5c percentage of 5-star reviews for the two types of review (paid vs unpaid).\n",
        "print(\"Paid 5 star reviews  : \" + str(vine_df.filter(col(\"star_rating\")== 5).count()))\n",
        "print(\"UnPaid 5 star reviews: \" + str(notvine_df.filter(col(\"star_rating\")== 5).count()))\n",
        "print(\"Percentage of 5 star reviews Paid vs. Unpaid: \" + str(vine_df.filter(col(\"star_rating\")== 5).count()"
      ],
      "metadata": {
        "id": "jQUbGu8nwsFK"
      },
      "execution_count": null,
      "outputs": []
    },
    {
      "cell_type": "code",
      "source": [
        "# Reviews regardless of rating\n",
        "print(\"Paid reviews  : \" + str(vine_df.count()))\n",
        "print(\"UnPaid reviews: \" + str(notvine_df.count()))\n",
        "print(\"Percentage of reviews Paid vs. Unpaid: \" + str(vine_df.count() / over50_df.count() * 100) + \""
      ],
      "metadata": {
        "id": "pibXm466wvdp"
      },
      "execution_count": null,
      "outputs": []
    }
  ]
}